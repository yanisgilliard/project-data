{
 "cells": [
  {
   "cell_type": "markdown",
   "metadata": {},
   "source": [
    "**Sommaire**<a id='toc0_'></a>\n",
    "- [Resultats](#toc1_)\n",
    "    - [Les meilleurs équipes](#toc1_1_)\n",
    "    - [Les pires équipes](#toc1_2_)\n",
    "    - [Le plus de matchs nuls](#toc1_3_)\n",
    "    - [Le plus grand nombres de matchs joués](#toc1_4_)\n",
    "    - [Le moins de matchs joués](#toc1_5_)\n",
    "    - [Les meilleurs attaques](#toc1_6_)\n",
    "    - [Les pires attaques](#toc1_7_)\n",
    "    - [Les meilleurs défenses](#toc1_8_)\n",
    "    - [Les pires défenses](#toc1_9_)\n",
    "    - [Moyenne de match joués par équipe](#toc1_10_)\n",
    "    - [Moyenne de buts marqués par match](#toc1_11_)\n",
    "    - [Moyenne de buts encaissés par match](#toc1_12_)\n",
    "    - [Score le plus large](#toc1_13_)\n",
    "    - [Liste des tournois](#toc1_14_)\n",
    "    - [Tournois les plus joués](#toc1_15_)\n",
    "    - [Les meilleurs équipes à domicile](#toc1_16_)\n",
    "    - [Les meilleurs équipes à l'extérieur](#toc1_17_)\n",
    "    - [Les pires équipes à domicile](#toc1_18_)\n",
    "    - [Les pires équipesl'extérieur](#toc1_19_)\n",
    "\n",
    "- [Buteurs](#toc2_)\n",
    "    - [Meilleurs buteurs](#toc2_1_)\n",
    "    - [Meilleurs buteurs par pays](#toc2_2_)\n",
    "    - [Nombre de buts marqués à chaque minutes](#toc2_3_)\n",
    "    - [Les 5 minutes les plus prolifiques](#toc2_4_)\n",
    "    - [Buteurs sur penalty](#toc2_5_)\n",
    "    - [Meilleurs buteurs à chaque décennie](#toc2_7_)\n",
    "    - [Les joueurs avec le plus de doublés](#toc2_8_)\n",
    "    - [Les joueurs avec le plus de triplés](#toc2_9_)\n",
    "    - [Les joueurs avec le plus de quadruplés](#toc2_10_)\n",
    "    - [Les joueurs avec le plus en un match](#toc2_11_)"
   ]
  },
  {
   "cell_type": "markdown",
   "metadata": {},
   "source": [
    "# <a id='toc1_'></a>[Resultats](#toc0_)"
   ]
  },
  {
   "cell_type": "code",
   "execution_count": 2,
   "metadata": {},
   "outputs": [],
   "source": [
    "import pandas as pd"
   ]
  },
  {
   "cell_type": "code",
   "execution_count": 3,
   "metadata": {},
   "outputs": [],
   "source": [
    "df = pd.read_csv('goalscorers.csv')\n",
    "data = pd.read_csv('results.csv')"
   ]
  },
  {
   "cell_type": "markdown",
   "metadata": {},
   "source": [
    "## <a id='toc1_1_'></a>[Les meilleurs équipes](#toc0_)"
   ]
  },
  {
   "cell_type": "code",
   "execution_count": 9,
   "metadata": {},
   "outputs": [
    {
     "name": "stdout",
     "output_type": "stream",
     "text": [
      "Les 5 équipes qui ont gagné le plus de matchs :\n",
      "home_team\n",
      "Brazil       429\n",
      "Argentina    390\n",
      "Mexico       332\n",
      "Germany      331\n",
      "England      331\n",
      "Name: win, dtype: int64\n"
     ]
    }
   ],
   "source": [
    "data['win'] = data['home_score'] > data['away_score']\n",
    "\n",
    "wins_count = data.groupby('home_team')['win'].sum()\n",
    "\n",
    "top_5_teams = wins_count.sort_values(ascending=False).head(5)\n",
    "\n",
    "print(\"Les 5 équipes qui ont gagné le plus de matchs :\")\n",
    "\n",
    "print(top_5_teams)"
   ]
  },
  {
   "cell_type": "markdown",
   "metadata": {},
   "source": [
    "## <a id='toc1_2_'></a>[Les pires équipes](#toc0_)"
   ]
  },
  {
   "cell_type": "code",
   "execution_count": 10,
   "metadata": {},
   "outputs": [
    {
     "name": "stdout",
     "output_type": "stream",
     "text": [
      "Les 5 équipes qui ont perdu le plus de matchs :\n",
      "away_team\n",
      "England    274\n",
      "Germany    249\n",
      "Brazil     231\n",
      "Sweden     223\n",
      "Uruguay    205\n",
      "Name: loss, dtype: int64\n"
     ]
    }
   ],
   "source": [
    "def find_top_losing_teams():\n",
    "    \n",
    "    data['loss'] = data['home_score'] < data['away_score']\n",
    "\n",
    "    losses_count = data.groupby('away_team')['loss'].sum()\n",
    "\n",
    "    top_5_losing_teams = losses_count.sort_values(ascending=False).head(5)\n",
    "\n",
    "    print(\"Les 5 équipes qui ont perdu le plus de matchs :\")\n",
    "    \n",
    "    print(top_5_losing_teams)\n",
    "\n",
    "find_top_losing_teams()"
   ]
  },
  {
   "cell_type": "markdown",
   "metadata": {},
   "source": [
    "## <a id='toc1_3_'></a>[Le plus de matchs nuls](#toc0_)"
   ]
  },
  {
   "cell_type": "code",
   "execution_count": 14,
   "metadata": {},
   "outputs": [
    {
     "name": "stdout",
     "output_type": "stream",
     "text": [
      "Les 5 équipes qui ont fait le plus de matchs nuls :\n",
      "Argentina      254.0\n",
      "England        254.0\n",
      "South Korea    248.0\n",
      "Italy          238.0\n",
      "Sweden         229.0\n",
      "Name: draw, dtype: float64\n"
     ]
    }
   ],
   "source": [
    "def find_top_draw_teams():\n",
    "    \n",
    "    data['draw'] = data['home_score'] == data['away_score']\n",
    "\n",
    "    draws_count = data.groupby('home_team')['draw'].sum() + data.groupby('away_team')['draw'].sum()\n",
    "\n",
    "    top_5_draw_teams = draws_count.sort_values(ascending=False).head(5)\n",
    "\n",
    "    print(\"Les 5 équipes qui ont fait le plus de matchs nuls :\")\n",
    "    \n",
    "    print(top_5_draw_teams)\n",
    "\n",
    "find_top_draw_teams()"
   ]
  },
  {
   "cell_type": "markdown",
   "metadata": {},
   "source": [
    "## <a id='toc1_4_'></a>[Le plus grand nombres de matchs joués](#toc0_)"
   ]
  },
  {
   "cell_type": "code",
   "execution_count": 11,
   "metadata": {},
   "outputs": [
    {
     "name": "stdout",
     "output_type": "stream",
     "text": [
      "Les 5 équipes qui ont joué le plus de matchs :\n",
      "Sweden       1073.0\n",
      "England      1061.0\n",
      "Argentina    1039.0\n",
      "Brazil       1034.0\n",
      "Germany      1001.0\n",
      "dtype: float64\n"
     ]
    }
   ],
   "source": [
    "def find_top_match_playing_teams():\n",
    "    \n",
    "    matches_count = data.groupby('home_team').size() + data.groupby('away_team').size()\n",
    "\n",
    "    top_5_match_playing_teams = matches_count.sort_values(ascending=False).head(5)\n",
    "\n",
    "    print(\"Les 5 équipes qui ont joué le plus de matchs :\")\n",
    "    \n",
    "    print(top_5_match_playing_teams)\n",
    "\n",
    "find_top_match_playing_teams()"
   ]
  },
  {
   "cell_type": "markdown",
   "metadata": {},
   "source": [
    "## <a id='toc1_5_'></a>[Le moins de matchs joués](#toc0_)"
   ]
  },
  {
   "cell_type": "code",
   "execution_count": 12,
   "metadata": {},
   "outputs": [
    {
     "name": "stdout",
     "output_type": "stream",
     "text": [
      "Les 5 équipes qui ont joué le moins de matchs :\n",
      "Malaya           2.0\n",
      "Aymara           2.0\n",
      "Ticino           2.0\n",
      "Central Spain    2.0\n",
      "Chechnya         3.0\n",
      "dtype: float64\n"
     ]
    }
   ],
   "source": [
    "def find_top_match_playing_teams():\n",
    "\n",
    "    matches_count = data.groupby('home_team').size() + data.groupby('away_team').size()\n",
    "\n",
    "    top_5_match_playing_teams = matches_count.sort_values(ascending=True).head(5)\n",
    "\n",
    "    print(\"Les 5 équipes qui ont joué le moins de matchs :\")\n",
    "    \n",
    "    print(top_5_match_playing_teams)\n",
    "\n",
    "find_top_match_playing_teams()"
   ]
  },
  {
   "cell_type": "markdown",
   "metadata": {},
   "source": [
    "## <a id='toc1_6_'></a>[Les meilleurs attaques](#toc0_)"
   ]
  },
  {
   "cell_type": "code",
   "execution_count": 15,
   "metadata": {},
   "outputs": [
    {
     "name": "stdout",
     "output_type": "stream",
     "text": [
      "Les 5 équipes qui ont marqué le plus de buts :\n",
      "England    2323.0\n",
      "Brazil     2260.0\n",
      "Germany    2237.0\n",
      "Sweden     2110.0\n",
      "Hungary    1978.0\n",
      "dtype: float64\n"
     ]
    }
   ],
   "source": [
    "def find_top_goal_scoring_teams():\n",
    "    \n",
    "    goals_scored = data.groupby('home_team')['home_score'].sum() + data.groupby('away_team')['away_score'].sum()\n",
    "\n",
    "    top_5_goal_scoring_teams = goals_scored.sort_values(ascending=False).head(5)\n",
    "\n",
    "    print(\"Les 5 équipes qui ont marqué le plus de buts :\")\n",
    "    \n",
    "    print(top_5_goal_scoring_teams)\n",
    "\n",
    "find_top_goal_scoring_teams()\n"
   ]
  },
  {
   "cell_type": "markdown",
   "metadata": {},
   "source": [
    "## <a id='toc1_7_'></a>[Les pires attaques](#toc0_)"
   ]
  },
  {
   "cell_type": "code",
   "execution_count": 16,
   "metadata": {},
   "outputs": [
    {
     "name": "stdout",
     "output_type": "stream",
     "text": [
      "Les 5 équipes qui ont marqué le moins de buts :\n",
      "Manchukuo    0.0\n",
      "Sark         0.0\n",
      "Aymara       1.0\n",
      "Darfur       1.0\n",
      "Ticino       2.0\n",
      "dtype: float64\n"
     ]
    }
   ],
   "source": [
    "def find_top_goal_scoring_teams():\n",
    "    \n",
    "    goals_scored = data.groupby('home_team')['home_score'].sum() + data.groupby('away_team')['away_score'].sum()\n",
    "\n",
    "    top_5_goal_scoring_teams = goals_scored.sort_values(ascending=True).head(5)\n",
    "\n",
    "    print(\"Les 5 équipes qui ont marqué le moins de buts :\")\n",
    "    \n",
    "    print(top_5_goal_scoring_teams)\n",
    "\n",
    "find_top_goal_scoring_teams()\n"
   ]
  },
  {
   "cell_type": "markdown",
   "metadata": {},
   "source": [
    "## <a id='toc1_8_'></a>[Les meilleurs défenses](#toc0_)"
   ]
  },
  {
   "cell_type": "code",
   "execution_count": 20,
   "metadata": {},
   "outputs": [
    {
     "name": "stdout",
     "output_type": "stream",
     "text": [
      "Les 5 meilleures défenses :\n",
      "Biafra                1.0\n",
      "Central Spain         4.0\n",
      "Parishes of Jersey    4.0\n",
      "Aymara                4.0\n",
      "Corsica               5.0\n",
      "dtype: float64\n"
     ]
    }
   ],
   "source": [
    "def find_top_defenses():\n",
    "\n",
    "    goals_conceded = data.groupby('home_team')['away_score'].sum() + data.groupby('away_team')['home_score'].sum()\n",
    "\n",
    "    top_5_defenses = goals_conceded.sort_values(ascending=True).head(5)\n",
    "\n",
    "    print(\"Les 5 meilleures défenses :\")\n",
    "    \n",
    "    print(top_5_defenses)\n",
    "\n",
    "find_top_defenses()"
   ]
  },
  {
   "cell_type": "markdown",
   "metadata": {},
   "source": [
    "## <a id='toc1_9_'></a>[Les pires défenses](#toc0_)"
   ]
  },
  {
   "cell_type": "code",
   "execution_count": 25,
   "metadata": {},
   "outputs": [
    {
     "name": "stdout",
     "output_type": "stream",
     "text": [
      "Les cinq pires défenses :\n",
      "      equipe  buts_encaisses\n",
      "0     Sweden            1073\n",
      "1    England            1061\n",
      "2  Argentina            1039\n",
      "3     Brazil            1034\n",
      "4    Germany            1001\n"
     ]
    }
   ],
   "source": [
    "equipes = pd.concat([data['home_team'], data['away_team']])\n",
    "\n",
    "buts_encaisses = equipes.value_counts().reset_index()\n",
    "buts_encaisses.columns = ['equipe', 'buts_encaisses']\n",
    "\n",
    "pire_defenses = buts_encaisses.head(5)\n",
    "\n",
    "print(\"Les cinq pires défenses :\")\n",
    "print(pire_defenses)\n"
   ]
  },
  {
   "cell_type": "markdown",
   "metadata": {},
   "source": [
    "## <a id='toc1_10_'></a>[Moyenne de match joués par équipe](#toc0_)"
   ]
  },
  {
   "cell_type": "code",
   "execution_count": 40,
   "metadata": {},
   "outputs": [
    {
     "name": "stdout",
     "output_type": "stream",
     "text": [
      "Moyenne de matchs joués par équipe : 200.5\n"
     ]
    }
   ],
   "source": [
    "matches_played = df.groupby('home_team')['home_team'].count().reset_index(name='total_matches')\n",
    "\n",
    "average_matches_played = matches_played['total_matches'].mean()\n",
    "\n",
    "print(\"Moyenne de matchs joués par équipe :\", average_matches_played)\n"
   ]
  },
  {
   "cell_type": "markdown",
   "metadata": {},
   "source": [
    "## <a id='toc1_11_'></a>[Moyenne de buts marqués par match](#toc0_)"
   ]
  },
  {
   "cell_type": "code",
   "execution_count": 42,
   "metadata": {},
   "outputs": [
    {
     "name": "stdout",
     "output_type": "stream",
     "text": [
      "                home_goals_scored  away_goals_scored  total_matches  \\\n",
      "home_team                                                             \n",
      "Czechoslovakia                556                281            232   \n",
      "Germany                      1319                563            535   \n",
      "Hungary                      1114                577            484   \n",
      "Sweden                       1204                584            520   \n",
      "Netherlands                  1071                466            454   \n",
      "\n",
      "                total_goals_scored  goals_scored_per_match  \n",
      "home_team                                                   \n",
      "Czechoslovakia                 837                3.607759  \n",
      "Germany                       1882                3.517757  \n",
      "Hungary                       1691                3.493802  \n",
      "Sweden                        1788                3.438462  \n",
      "Netherlands                   1537                3.385463  \n"
     ]
    }
   ],
   "source": [
    "goals_scored_data = data.groupby('home_team').agg({'home_score': 'sum', 'away_score': 'sum', 'home_team': 'count'})\n",
    "\n",
    "goals_scored_data = goals_scored_data[goals_scored_data['home_team'] > 200]\n",
    "\n",
    "goals_scored_data.columns = ['home_goals_scored', 'away_goals_scored', 'total_matches']\n",
    "\n",
    "goals_scored_data['total_goals_scored'] = goals_scored_data['home_goals_scored'] + goals_scored_data['away_goals_scored']\n",
    "\n",
    "goals_scored_data['goals_scored_per_match'] = goals_scored_data['total_goals_scored'] / goals_scored_data['total_matches']\n",
    "\n",
    "top_5_scoring_teams = goals_scored_data.sort_values(by='goals_scored_per_match', ascending=False).head(5)\n",
    "\n",
    "print(top_5_scoring_teams)\n"
   ]
  },
  {
   "cell_type": "markdown",
   "metadata": {},
   "source": [
    "## <a id='toc1_12_'></a>[Moyenne de buts encaissés par match](#toc0_)"
   ]
  },
  {
   "cell_type": "code",
   "execution_count": 41,
   "metadata": {},
   "outputs": [
    {
     "name": "stdout",
     "output_type": "stream",
     "text": [
      "              away_goals_conceded  home_goals_conceded  total_matches  \\\n",
      "home_team                                                               \n",
      "South Africa                  179                  358            259   \n",
      "Senegal                       166                  415            256   \n",
      "Jordan                        188                  336            229   \n",
      "Morocco                       192                  545            314   \n",
      "Malawi                        371                  479            355   \n",
      "\n",
      "              total_goals_conceded  goals_conceded_per_match  \n",
      "home_team                                                     \n",
      "South Africa                   537                  2.073359  \n",
      "Senegal                        581                  2.269531  \n",
      "Jordan                         524                  2.288210  \n",
      "Morocco                        737                  2.347134  \n",
      "Malawi                         850                  2.394366  \n"
     ]
    }
   ],
   "source": [
    "goals_conceded_data = data.groupby('home_team').agg({'away_score': 'sum', 'home_score': 'sum', 'home_team': 'count'})\n",
    "\n",
    "goals_conceded_data = goals_conceded_data[goals_conceded_data['home_team'] > 200]\n",
    "\n",
    "goals_conceded_data.columns = ['away_goals_conceded', 'home_goals_conceded', 'total_matches']\n",
    "\n",
    "goals_conceded_data['total_goals_conceded'] = goals_conceded_data['away_goals_conceded'] + goals_conceded_data['home_goals_conceded']\n",
    "\n",
    "goals_conceded_data['goals_conceded_per_match'] = goals_conceded_data['total_goals_conceded'] / goals_conceded_data['total_matches']\n",
    "\n",
    "top_5_defensive_teams = goals_conceded_data.sort_values(by='goals_conceded_per_match', ascending=True).head(5)\n",
    "\n",
    "print(top_5_defensive_teams)"
   ]
  },
  {
   "cell_type": "markdown",
   "metadata": {},
   "source": [
    "## <a id='toc1_13_'></a>[Score le plus large](#toc0_)"
   ]
  },
  {
   "cell_type": "code",
   "execution_count": 47,
   "metadata": {},
   "outputs": [
    {
     "name": "stdout",
     "output_type": "stream",
     "text": [
      "Résultat du match avec le score le plus large:\n",
      "Équipe à domicile: Australia\n",
      "Équipe à l'extérieur: American Samoa\n",
      "Score à domicile: 31\n",
      "Score à l'extérieur: 0\n"
     ]
    }
   ],
   "source": [
    "data['score_difference'] = abs(data['home_score'] - data['away_score'])\n",
    "\n",
    "max_score_difference = data['score_difference'].max()\n",
    "\n",
    "match_with_max_score_difference = data[data['score_difference'] == max_score_difference]\n",
    "\n",
    "home_team = match_with_max_score_difference['home_team'].iloc[0]\n",
    "away_team = match_with_max_score_difference['away_team'].iloc[0]\n",
    "home_score = match_with_max_score_difference['home_score'].iloc[0]\n",
    "away_score = match_with_max_score_difference['away_score'].iloc[0]\n",
    "\n",
    "print(\"Résultat du match avec le score le plus large:\")\n",
    "print(\"Équipe à domicile:\", home_team)\n",
    "print(\"Équipe à l'extérieur:\", away_team)\n",
    "print(\"Score à domicile:\", home_score)\n",
    "print(\"Score à l'extérieur:\", away_score)"
   ]
  },
  {
   "cell_type": "markdown",
   "metadata": {},
   "source": [
    "## <a id='toc1_14_'></a>[Liste des tournois](#toc0_)"
   ]
  },
  {
   "cell_type": "code",
   "execution_count": 48,
   "metadata": {},
   "outputs": [
    {
     "name": "stdout",
     "output_type": "stream",
     "text": [
      "Liste des tournois différents :\n",
      "Friendly\n",
      "British Home Championship\n",
      "Évence Coppée Trophy\n",
      "Muratti Vase\n",
      "Copa Lipton\n",
      "Copa Newton\n",
      "Copa Premio Honor Argentino\n",
      "Copa Premio Honor Uruguayo\n",
      "Copa Roca\n",
      "Copa América\n",
      "Peace Cup\n",
      "Copa Chevallier Boutell\n",
      "Olympic Games\n",
      "Nordic Championship\n",
      "Central European International Cup\n",
      "Baltic Cup\n",
      "Balkan Cup\n",
      "FIFA World Cup\n",
      "Copa Rio Branco\n",
      "FIFA World Cup qualification\n",
      "Bolivarian Games\n",
      "CCCF Championship\n",
      "NAFC Championship\n",
      "Copa Oswaldo Cruz\n",
      "Asian Games\n",
      "Pan American Championship\n",
      "Copa del Pacífico\n",
      "Copa Bernardo O'Higgins\n",
      "AFC Asian Cup qualification\n",
      "Atlantic Cup\n",
      "AFC Asian Cup\n",
      "African Cup of Nations\n",
      "Copa Paz del Chaco\n",
      "Merdeka Tournament\n",
      "UEFA Euro qualification\n",
      "Southeast Asian Peninsular Games\n",
      "UEFA Euro\n",
      "Windward Islands Tournament\n",
      "African Cup of Nations qualification\n",
      "Vietnam Independence Cup\n",
      "Copa Carlos Dittborn\n",
      "Phillip Seaga Cup\n",
      "CONCACAF Championship\n",
      "Copa Juan Pinto Durán\n",
      "Arab Cup\n",
      "South Pacific Games\n",
      "CONCACAF Championship qualification\n",
      "Copa Artigas\n",
      "GaNEFo\n",
      "King's Cup\n",
      "Gulf Cup\n",
      "Indonesia Tournament\n",
      "Korea Cup\n",
      "Palestine Cup\n",
      "Brazil Independence Cup\n",
      "Copa Ramón Castilla\n",
      "Oceania Nations Cup\n",
      "CECAFA Cup\n",
      "Kuneitra Cup\n",
      "Copa Félix Bogado\n",
      "Real Madrid 75th Anniversary Cup\n",
      "Beijing International Friendship Tournament\n",
      "Southeast Asian Games\n",
      "Kirin Cup\n",
      "CFU Caribbean Cup qualification\n",
      "CFU Caribbean Cup\n",
      "Amílcar Cabral Cup\n",
      "FIFA 75th Anniversary Cup\n",
      "Guangzhou International Friendship Tournament\n",
      "Mundialito\n",
      "West African Cup\n",
      "Nehru Cup\n",
      "Merlion Cup\n",
      "Great Wall Cup\n",
      "UDEAC Cup\n",
      "Rous Cup\n",
      "CONMEBOL–UEFA Cup of Champions\n",
      "Miami Cup\n",
      "Lunar New Year Cup\n",
      "Arab Cup qualification\n",
      "Tournoi de France\n",
      "Malta International Tournament\n",
      "Four Nations Tournament\n",
      "Matthews Cup\n",
      "Tournament Burkina Faso\n",
      "Marlboro Cup\n",
      "Island Games\n",
      "NAFU Championship\n",
      "Dynasty Cup\n",
      "Dakar Tournament\n",
      "UNCAF Cup\n",
      "Scania 100 Tournament\n",
      "Gold Cup\n",
      "USA Cup\n",
      "Jordan International Tournament\n",
      "Confederations Cup\n",
      "East Asian Games\n",
      "United Arab Emirates Friendship Tournament\n",
      "Joe Robbie Cup\n",
      "Oceania Nations Cup qualification\n",
      "Simba Tournament\n",
      "SAFF Cup\n",
      "AFF Championship\n",
      "King Hassan II Tournament\n",
      "Cyprus International Tournament\n",
      "Dunhill Cup\n",
      "COSAFA Cup qualification\n",
      "COSAFA Cup\n",
      "Gold Cup qualification\n",
      "AFF Championship qualification\n",
      "SKN Football Festival\n",
      "UNIFFAC Cup\n",
      "WAFF Championship\n",
      "Millennium Cup\n",
      "Cup of Ancient Civilizations\n",
      "Prime Minister's Cup\n",
      "The Other Final\n",
      "EAFF Championship\n",
      "TIFOCO Tournament\n",
      "Afro-Asian Games\n",
      "AFC Challenge Cup\n",
      "FIFI Wild Cup\n",
      "ELF Cup\n",
      "Viva World Cup\n",
      "AFC Challenge Cup qualification\n",
      "VFF Cup\n",
      "Dragon Cup\n",
      "ABCS Tournament\n",
      "Nile Basin Tournament\n",
      "Nations Cup\n",
      "Copa Confraternidad\n",
      "Pacific Games\n",
      "Superclásico de las Américas\n",
      "Africa Cup of Nations qualification\n",
      "Kirin Challenge Cup\n",
      "Tynwald Hill Tournament\n",
      "OSN Cup\n",
      "CONIFA World Football Cup\n",
      "Niamh Challenge Cup\n",
      "CONIFA European Football Cup\n",
      "Benedikt Fontana Cup\n",
      "Copa América qualification\n",
      "ConIFA Challenger Cup\n",
      "Hungary Heritage Cup\n",
      "World Unity Cup\n",
      "Pacific Mini Games\n",
      "Intercontinental Cup\n",
      "UEFA Nations League\n",
      "CONCACAF Nations League qualification\n",
      "Atlantic Heritage Cup\n",
      "Inter Games Football Tournament\n",
      "CONCACAF Nations League\n",
      "Three Nations Cup\n",
      "Mahinda Rajapaksa Cup\n",
      "Navruz Cup\n",
      "CONIFA Africa Football Cup\n",
      "CONIFA South America Football Cup\n",
      "MSG Prime Minister's Cup\n",
      "Tri Nation Tournament\n",
      "CAFA Nations Cup\n",
      "Mauritius Four Nations Cup\n",
      "CONIFA World Football Cup qualification\n",
      "CONIFA Asia Cup\n",
      "FIFA Series\n"
     ]
    }
   ],
   "source": [
    "tournois_differents = data['tournament'].unique()\n",
    "\n",
    "print(\"Liste des tournois différents :\")\n",
    "for tournoi in tournois_differents:\n",
    "    print(tournoi)"
   ]
  },
  {
   "cell_type": "markdown",
   "metadata": {},
   "source": [
    "## <a id='toc1_15_'></a>[Tournois les plus joués](#toc0_)"
   ]
  },
  {
   "cell_type": "code",
   "execution_count": 50,
   "metadata": {},
   "outputs": [
    {
     "name": "stdout",
     "output_type": "stream",
     "text": [
      "Les 10 tournois les plus joués :\n",
      "tournament\n",
      "Friendly                                17906\n",
      "FIFA World Cup qualification             8052\n",
      "UEFA Euro qualification                  2824\n",
      "African Cup of Nations qualification     2116\n",
      "FIFA World Cup                            964\n",
      "Copa América                              841\n",
      "African Cup of Nations                    793\n",
      "AFC Asian Cup qualification               764\n",
      "CECAFA Cup                                620\n",
      "CFU Caribbean Cup qualification           606\n",
      "Name: count, dtype: int64\n"
     ]
    }
   ],
   "source": [
    "matchs_par_tournoi = data['tournament'].value_counts()\n",
    "\n",
    "top_10_tournois = matchs_par_tournoi.head(10)\n",
    "\n",
    "print(\"Les 10 tournois les plus joués :\")\n",
    "\n",
    "print(top_10_tournois)"
   ]
  },
  {
   "cell_type": "markdown",
   "metadata": {},
   "source": [
    "## <a id='toc1_16_'></a>[Les meilleurs équipes à domicile](#toc0_)"
   ]
  },
  {
   "cell_type": "code",
   "execution_count": 28,
   "metadata": {},
   "outputs": [
    {
     "name": "stdout",
     "output_type": "stream",
     "text": [
      "Les cinq équipes avec le plus de victoires à domicile :\n",
      "      equipe  victoires_domicile\n",
      "0     Brazil                 429\n",
      "1  Argentina                 390\n",
      "2     Mexico                 332\n",
      "3    England                 331\n",
      "4    Germany                 331\n"
     ]
    }
   ],
   "source": [
    "victoires_domicile = data[data['home_score'] > data['away_score']]\n",
    "\n",
    "victoires_par_equipe = victoires_domicile['home_team'].value_counts().reset_index()\n",
    "victoires_par_equipe.columns = ['equipe', 'victoires_domicile']\n",
    "\n",
    "top_5_equipes_victoires_domicile = victoires_par_equipe.head(5)\n",
    "\n",
    "print(\"Les cinq équipes avec le plus de victoires à domicile :\")\n",
    "print(top_5_equipes_victoires_domicile)\n",
    "\n"
   ]
  },
  {
   "cell_type": "markdown",
   "metadata": {},
   "source": [
    "## <a id='toc1_17_'></a>[Les meilleurs équipes à l'extérieur](#toc0_)"
   ]
  },
  {
   "cell_type": "code",
   "execution_count": 29,
   "metadata": {},
   "outputs": [
    {
     "name": "stdout",
     "output_type": "stream",
     "text": [
      "Les cinq équipes avec le plus de victoires à l'extérieur :\n",
      "    equipe  victoires_exterieur\n",
      "0  England                  274\n",
      "1  Germany                  249\n",
      "2   Brazil                  231\n",
      "3   Sweden                  223\n",
      "4  Uruguay                  205\n"
     ]
    }
   ],
   "source": [
    "victoires_exterieur = data[data['away_score'] > data['home_score']]\n",
    "\n",
    "victoires_par_equipe_exterieur = victoires_exterieur['away_team'].value_counts().reset_index()\n",
    "victoires_par_equipe_exterieur.columns = ['equipe', 'victoires_exterieur']\n",
    "\n",
    "top_5_equipes_victoires_exterieur = victoires_par_equipe_exterieur.head(5)\n",
    "\n",
    "print(\"Les cinq équipes avec le plus de victoires à l'extérieur :\")\n",
    "print(top_5_equipes_victoires_exterieur)"
   ]
  },
  {
   "cell_type": "markdown",
   "metadata": {},
   "source": [
    "## <a id='toc1_18_'></a>[Les pires équipes à domicile](#toc0_)"
   ]
  },
  {
   "cell_type": "code",
   "execution_count": 31,
   "metadata": {},
   "outputs": [
    {
     "name": "stdout",
     "output_type": "stream",
     "text": [
      "Les cinq équipes avec le moins de victoires à domicile :\n",
      "               equipe  victoires_domicile\n",
      "298     Romani people                   1\n",
      "299  Arameans Suryoye                   1\n",
      "300    Chagos Islands                   1\n",
      "301        Donetsk PR                   1\n",
      "302             Hmong                   1\n"
     ]
    }
   ],
   "source": [
    "victoires_domicile = data[data['home_score'] > data['away_score']]\n",
    "\n",
    "victoires_par_equipe_domicile = victoires_domicile['home_team'].value_counts().reset_index()\n",
    "victoires_par_equipe_domicile.columns = ['equipe', 'victoires_domicile']\n",
    "\n",
    "bottom_5_equipes_victoires_domicile = victoires_par_equipe_domicile.tail(5)\n",
    "\n",
    "print(\"Les cinq équipes avec le moins de victoires à domicile :\")\n",
    "print(bottom_5_equipes_victoires_domicile)"
   ]
  },
  {
   "cell_type": "markdown",
   "metadata": {},
   "source": [
    "## <a id='toc1_19_'></a>[Les pires équipes à l'extérieur](#toc0_)"
   ]
  },
  {
   "cell_type": "code",
   "execution_count": 30,
   "metadata": {},
   "outputs": [
    {
     "name": "stdout",
     "output_type": "stream",
     "text": [
      "Les cinq équipes avec le moins de victoires à l'extérieur :\n",
      "           equipe  victoires_exterieur\n",
      "290     Andalusia                    1\n",
      "291  Two Sicilies                    1\n",
      "292      Asturias                    1\n",
      "293      Brittany                    1\n",
      "294          Gozo                    1\n"
     ]
    }
   ],
   "source": [
    "victoires_exterieur = data[data['away_score'] > data['home_score']]\n",
    "\n",
    "victoires_par_equipe_exterieur = victoires_exterieur['away_team'].value_counts().reset_index()\n",
    "victoires_par_equipe_exterieur.columns = ['equipe', 'victoires_exterieur']\n",
    "\n",
    "bottom_5_equipes_victoires_exterieur = victoires_par_equipe_exterieur.tail(5)\n",
    "\n",
    "print(\"Les cinq équipes avec le moins de victoires à l'extérieur :\")\n",
    "print(bottom_5_equipes_victoires_exterieur)"
   ]
  },
  {
   "cell_type": "markdown",
   "metadata": {},
   "source": [
    "### Stats pas très pertinente c'était sipmlement pour tester"
   ]
  },
  {
   "cell_type": "code",
   "execution_count": 51,
   "metadata": {},
   "outputs": [
    {
     "name": "stdout",
     "output_type": "stream",
     "text": [
      "Période 1872-01-01 à 1899-12-31 : Scotland avec 69.0 victoires.\n",
      "Période 1900-01-01 à 1949-12-31 : Hungary avec 270.0 victoires.\n",
      "Période 1950-01-01 à 1999-12-31 : South Korea avec 608.0 victoires.\n",
      "Période 2000-01-01 à 2024-12-31 : Mexico avec 437.0 victoires.\n"
     ]
    }
   ],
   "source": [
    "data['date'] = pd.to_datetime(data['date'])\n",
    "\n",
    "periodes = [\n",
    "    ('1872-01-01', '1899-12-31'),\n",
    "    ('1900-01-01', '1949-12-31'),\n",
    "    ('1950-01-01', '1999-12-31'),\n",
    "    ('2000-01-01', '2024-12-31')\n",
    "]\n",
    "\n",
    "def filtrer_periode(debut, fin):\n",
    "    return data[(data['date'] >= debut) & (data['date'] <= fin)]\n",
    "\n",
    "def equipe_plus_victoires(debut, fin):\n",
    "    matches_periode = filtrer_periode(debut, fin)\n",
    "    victoires_par_equipe = matches_periode['home_team'].value_counts() + matches_periode['away_team'].value_counts()\n",
    "    equipe_max_victoires = victoires_par_equipe.idxmax()\n",
    "    victoires_max = victoires_par_equipe.max()\n",
    "    return equipe_max_victoires, victoires_max\n",
    "\n",
    "for debut, fin in periodes:\n",
    "    equipe, victoires = equipe_plus_victoires(debut, fin)\n",
    "    print(f\"Période {debut} à {fin} : {equipe} avec {victoires} victoires.\")"
   ]
  },
  {
   "cell_type": "code",
   "execution_count": 54,
   "metadata": {},
   "outputs": [
    {
     "name": "stdout",
     "output_type": "stream",
     "text": [
      "Période 1872-01-01 à 1899-12-31 : Aucune équipe n'a remporté de matchs dans cette période avec 0 victoires.\n",
      "Période 1900-01-01 à 1949-12-31 : Uruguay avec 87.0 victoires.\n",
      "Période 1950-01-01 à 1999-12-31 : Brazil avec 200.0 victoires.\n",
      "Période 2000-01-01 à 2024-12-31 : Brazil avec 101.0 victoires.\n"
     ]
    }
   ],
   "source": [
    "data['date'] = pd.to_datetime(data['date'])\n",
    "\n",
    "periodes = [\n",
    "    ('1872-01-01', '1899-12-31'),\n",
    "    ('1900-01-01', '1949-12-31'),\n",
    "    ('1950-01-01', '1999-12-31'),\n",
    "    ('2000-01-01', '2024-12-31')\n",
    "]\n",
    "\n",
    "tournois_souhaites = ['FIFA World Cup', 'UEFA Euro', 'Copa América', 'African Cup of Nations', \n",
    "                      'UEFA Nations League', 'CONCACAF Nations League', 'AFC Asian Cup']\n",
    "\n",
    "def filtrer_periode_et_tournois(debut, fin):\n",
    "    matches_periode = data[(df['date'] >= debut) & (data['date'] <= fin)]\n",
    "    return matches_periode[(matches_periode['tournament'].isin(tournois_souhaites)) & (matches_periode['tournament'] != 'Friendly')]\n",
    "\n",
    "def equipe_plus_victoires_periode_et_tournois(debut, fin):\n",
    "    matches_periode = filtrer_periode_et_tournois(debut, fin)\n",
    "    victoires_par_equipe = matches_periode['home_team'].value_counts() + matches_periode['away_team'].value_counts()\n",
    "    if not victoires_par_equipe.empty:\n",
    "        equipe_max_victoires = victoires_par_equipe.idxmax()\n",
    "        victoires_max = victoires_par_equipe.max()\n",
    "        return equipe_max_victoires, victoires_max\n",
    "    else:\n",
    "        return \"Aucune équipe n'a remporté de matchs dans cette période\", 0\n",
    "\n",
    "\n",
    "for debut, fin in periodes:\n",
    "    equipe, victoires = equipe_plus_victoires_periode_et_tournois(debut, fin)\n",
    "    print(f\"Période {debut} à {fin} : {equipe} avec {victoires} victoires.\")\n"
   ]
  },
  {
   "cell_type": "markdown",
   "metadata": {},
   "source": [
    "# <a id='toc2_'></a>[Buteurs](#toc0_)"
   ]
  },
  {
   "cell_type": "markdown",
   "metadata": {},
   "source": [
    "## <a id='toc2_1_'></a>[Meilleurs buteurs](#toc0_)"
   ]
  },
  {
   "cell_type": "code",
   "execution_count": 55,
   "metadata": {},
   "outputs": [
    {
     "name": "stdout",
     "output_type": "stream",
     "text": [
      "Les 5 joueurs ayant marqué le plus de buts avec leur nationalité :\n",
      "                   scorer       team  buts_marques\n",
      "2670    Cristiano Ronaldo   Portugal           111\n",
      "11648  Robert Lewandowski     Poland            62\n",
      "11851       Romelu Lukaku    Belgium            61\n",
      "5232           Harry Kane    England            55\n",
      "8137         Lionel Messi  Argentina            54\n"
     ]
    }
   ],
   "source": [
    "buteurs = df.groupby(['scorer', 'team']).size().reset_index(name='buts_marques')\n",
    "\n",
    "top_buteurs = buteurs.sort_values(by='buts_marques', ascending=False).head(5)\n",
    "\n",
    "print(\"Les 5 joueurs ayant marqué le plus de buts avec leur nationalité :\")\n",
    "\n",
    "print(top_buteurs)"
   ]
  },
  {
   "cell_type": "markdown",
   "metadata": {},
   "source": [
    "## <a id='toc2_2_'></a>[Meilleurs buteurs par pays](#toc0_)"
   ]
  },
  {
   "cell_type": "code",
   "execution_count": 4,
   "metadata": {},
   "outputs": [
    {
     "name": "stdout",
     "output_type": "stream",
     "text": [
      "Meilleurs buteurs pour chaque pays :\n",
      "                  scorer            team  buts_marques\n",
      "7592       Khaibar Amani     Afghanistan             2\n",
      "3846       Erjon Bogdani         Albania            11\n",
      "5839       Islam Slimani         Algeria            23\n",
      "4375   Frankie Beauchamp  American Samoa             2\n",
      "5725       Ildefons Lima         Andorra             6\n",
      "...                  ...             ...           ...\n",
      "764          Ali Al-Nono           Yemen             7\n",
      "187     Abubakar Al-Mass       Yemen DPR             1\n",
      "14450     Zlatko Vujović      Yugoslavia            18\n",
      "7361      Kalusha Bwalya          Zambia            19\n",
      "10922       Peter Ndlovu        Zimbabwe            14\n",
      "\n",
      "[220 rows x 3 columns]\n"
     ]
    }
   ],
   "source": [
    "df['buts_marques'] = 1\n",
    "\n",
    "buteurs_par_pays = df.groupby(['scorer', 'team'])['buts_marques'].sum().reset_index()\n",
    "\n",
    "indices_max_buteurs = buteurs_par_pays.groupby('team')['buts_marques'].idxmax()\n",
    "\n",
    "meilleurs_buteurs = buteurs_par_pays.loc[indices_max_buteurs]\n",
    "\n",
    "print(\"Meilleurs buteurs pour chaque pays :\")\n",
    "\n",
    "print(meilleurs_buteurs)"
   ]
  },
  {
   "cell_type": "markdown",
   "metadata": {},
   "source": [
    "## <a id='toc2_3_'></a>[Nombre de buts marqués à chaque minutes](#toc0_)"
   ]
  },
  {
   "cell_type": "code",
   "execution_count": 15,
   "metadata": {},
   "outputs": [
    {
     "name": "stdout",
     "output_type": "stream",
     "text": [
      "Minute 1 : 198 but(s) marqué(s)\n",
      "Minute 2 : 341 but(s) marqué(s)\n",
      "Minute 3 : 321 but(s) marqué(s)\n",
      "Minute 4 : 355 but(s) marqué(s)\n",
      "Minute 5 : 384 but(s) marqué(s)\n",
      "Minute 6 : 353 but(s) marqué(s)\n",
      "Minute 7 : 396 but(s) marqué(s)\n",
      "Minute 8 : 426 but(s) marqué(s)\n",
      "Minute 9 : 357 but(s) marqué(s)\n",
      "Minute 10 : 441 but(s) marqué(s)\n",
      "Minute 11 : 414 but(s) marqué(s)\n",
      "Minute 12 : 425 but(s) marqué(s)\n",
      "Minute 13 : 380 but(s) marqué(s)\n",
      "Minute 14 : 424 but(s) marqué(s)\n",
      "Minute 15 : 471 but(s) marqué(s)\n",
      "Minute 16 : 418 but(s) marqué(s)\n",
      "Minute 17 : 397 but(s) marqué(s)\n",
      "Minute 18 : 459 but(s) marqué(s)\n",
      "Minute 19 : 409 but(s) marqué(s)\n",
      "Minute 20 : 464 but(s) marqué(s)\n",
      "Minute 21 : 374 but(s) marqué(s)\n",
      "Minute 22 : 416 but(s) marqué(s)\n",
      "Minute 23 : 421 but(s) marqué(s)\n",
      "Minute 24 : 389 but(s) marqué(s)\n",
      "Minute 25 : 464 but(s) marqué(s)\n",
      "Minute 26 : 444 but(s) marqué(s)\n",
      "Minute 27 : 418 but(s) marqué(s)\n",
      "Minute 28 : 441 but(s) marqué(s)\n",
      "Minute 29 : 442 but(s) marqué(s)\n",
      "Minute 30 : 507 but(s) marqué(s)\n",
      "Minute 31 : 428 but(s) marqué(s)\n",
      "Minute 32 : 429 but(s) marqué(s)\n",
      "Minute 33 : 409 but(s) marqué(s)\n",
      "Minute 34 : 459 but(s) marqué(s)\n",
      "Minute 35 : 493 but(s) marqué(s)\n",
      "Minute 36 : 403 but(s) marqué(s)\n",
      "Minute 37 : 465 but(s) marqué(s)\n",
      "Minute 38 : 472 but(s) marqué(s)\n",
      "Minute 39 : 422 but(s) marqué(s)\n",
      "Minute 40 : 492 but(s) marqué(s)\n",
      "Minute 41 : 406 but(s) marqué(s)\n",
      "Minute 42 : 477 but(s) marqué(s)\n",
      "Minute 43 : 505 but(s) marqué(s)\n",
      "Minute 44 : 551 but(s) marqué(s)\n",
      "Minute 45 : 914 but(s) marqué(s)\n",
      "Minute 46 : 299 but(s) marqué(s)\n",
      "Minute 47 : 439 but(s) marqué(s)\n",
      "Minute 48 : 455 but(s) marqué(s)\n",
      "Minute 49 : 467 but(s) marqué(s)\n",
      "Minute 50 : 538 but(s) marqué(s)\n",
      "Minute 51 : 504 but(s) marqué(s)\n",
      "Minute 52 : 527 but(s) marqué(s)\n",
      "Minute 53 : 501 but(s) marqué(s)\n",
      "Minute 54 : 486 but(s) marqué(s)\n",
      "Minute 55 : 575 but(s) marqué(s)\n",
      "Minute 56 : 448 but(s) marqué(s)\n",
      "Minute 57 : 518 but(s) marqué(s)\n",
      "Minute 58 : 491 but(s) marqué(s)\n",
      "Minute 59 : 472 but(s) marqué(s)\n",
      "Minute 60 : 557 but(s) marqué(s)\n",
      "Minute 61 : 470 but(s) marqué(s)\n",
      "Minute 62 : 522 but(s) marqué(s)\n",
      "Minute 63 : 501 but(s) marqué(s)\n",
      "Minute 64 : 427 but(s) marqué(s)\n",
      "Minute 65 : 587 but(s) marqué(s)\n",
      "Minute 66 : 475 but(s) marqué(s)\n",
      "Minute 67 : 501 but(s) marqué(s)\n",
      "Minute 68 : 474 but(s) marqué(s)\n",
      "Minute 69 : 430 but(s) marqué(s)\n",
      "Minute 70 : 527 but(s) marqué(s)\n",
      "Minute 71 : 473 but(s) marqué(s)\n",
      "Minute 72 : 513 but(s) marqué(s)\n",
      "Minute 73 : 517 but(s) marqué(s)\n",
      "Minute 74 : 448 but(s) marqué(s)\n",
      "Minute 75 : 613 but(s) marqué(s)\n",
      "Minute 76 : 457 but(s) marqué(s)\n",
      "Minute 77 : 489 but(s) marqué(s)\n",
      "Minute 78 : 520 but(s) marqué(s)\n",
      "Minute 79 : 482 but(s) marqué(s)\n",
      "Minute 80 : 583 but(s) marqué(s)\n",
      "Minute 81 : 532 but(s) marqué(s)\n",
      "Minute 82 : 526 but(s) marqué(s)\n",
      "Minute 83 : 548 but(s) marqué(s)\n",
      "Minute 84 : 511 but(s) marqué(s)\n",
      "Minute 85 : 606 but(s) marqué(s)\n",
      "Minute 86 : 513 but(s) marqué(s)\n",
      "Minute 87 : 533 but(s) marqué(s)\n",
      "Minute 88 : 611 but(s) marqué(s)\n",
      "Minute 89 : 686 but(s) marqué(s)\n",
      "Minute 90 : 1779 but(s) marqué(s)\n",
      "Minute 91 : 4 but(s) marqué(s)\n",
      "Minute 92 : 10 but(s) marqué(s)\n",
      "Minute 93 : 17 but(s) marqué(s)\n",
      "Minute 94 : 6 but(s) marqué(s)\n",
      "Minute 95 : 6 but(s) marqué(s)\n",
      "Minute 96 : 4 but(s) marqué(s)\n",
      "Minute 97 : 12 but(s) marqué(s)\n",
      "Minute 98 : 8 but(s) marqué(s)\n",
      "Minute 99 : 3 but(s) marqué(s)\n",
      "Minute 100 : 9 but(s) marqué(s)\n",
      "Minute 101 : 9 but(s) marqué(s)\n",
      "Minute 102 : 7 but(s) marqué(s)\n",
      "Minute 103 : 11 but(s) marqué(s)\n",
      "Minute 104 : 12 but(s) marqué(s)\n",
      "Minute 105 : 14 but(s) marqué(s)\n",
      "Minute 106 : 4 but(s) marqué(s)\n",
      "Minute 107 : 4 but(s) marqué(s)\n",
      "Minute 108 : 6 but(s) marqué(s)\n",
      "Minute 109 : 9 but(s) marqué(s)\n",
      "Minute 110 : 9 but(s) marqué(s)\n",
      "Minute 111 : 7 but(s) marqué(s)\n",
      "Minute 112 : 7 but(s) marqué(s)\n",
      "Minute 113 : 3 but(s) marqué(s)\n",
      "Minute 114 : 10 but(s) marqué(s)\n",
      "Minute 115 : 7 but(s) marqué(s)\n",
      "Minute 116 : 7 but(s) marqué(s)\n",
      "Minute 117 : 7 but(s) marqué(s)\n",
      "Minute 118 : 9 but(s) marqué(s)\n",
      "Minute 119 : 8 but(s) marqué(s)\n",
      "Minute 120 : 12 but(s) marqué(s)\n",
      "Minute 121 : 0 but(s) marqué(s)\n",
      "Minute 122 : 1 but(s) marqué(s)\n"
     ]
    }
   ],
   "source": [
    "df['buts_marques'] = 1\n",
    "\n",
    "plage_minutes = range(1, 123)\n",
    "\n",
    "buts_par_minute = {minute: 0 for minute in plage_minutes}\n",
    "\n",
    "for minute in plage_minutes:\n",
    "    buts_minute = df[df['minute'] == minute]\n",
    "    buts_par_minute[minute] = buts_minute['buts_marques'].sum()\n",
    "\n",
    "for minute, buts in buts_par_minute.items():\n",
    "    print(f\"Minute {minute} : {buts} but(s) marqué(s)\")"
   ]
  },
  {
   "cell_type": "markdown",
   "metadata": {},
   "source": [
    "## <a id='toc2_4_'></a>[Les 5 minutes les plus prolifiques](#toc0_)"
   ]
  },
  {
   "cell_type": "code",
   "execution_count": 16,
   "metadata": {},
   "outputs": [
    {
     "name": "stdout",
     "output_type": "stream",
     "text": [
      "Les 5 minutes qui ont enregistré le plus grand nombre de buts :\n",
      "Minute 90 : 1779 but(s) marqué(s)\n",
      "Minute 45 : 914 but(s) marqué(s)\n",
      "Minute 89 : 686 but(s) marqué(s)\n",
      "Minute 75 : 613 but(s) marqué(s)\n",
      "Minute 88 : 611 but(s) marqué(s)\n"
     ]
    }
   ],
   "source": [
    "df['buts_marques'] = 1\n",
    "\n",
    "plage_minutes = range(1, 123)\n",
    "\n",
    "buts_par_minute = {minute: 0 for minute in plage_minutes}\n",
    "\n",
    "for minute in plage_minutes:\n",
    "    buts_minute = df[df['minute'] == minute]\n",
    "    buts_par_minute[minute] = buts_minute['buts_marques'].sum()\n",
    "\n",
    "top_5_minutes = sorted(buts_par_minute.items(), key=lambda x: x[1], reverse=True)[:5]\n",
    "\n",
    "print(\"Les 5 minutes qui ont enregistré le plus grand nombre de buts :\")\n",
    "for minute, buts in top_5_minutes:\n",
    "    print(f\"Minute {minute} : {buts} but(s) marqué(s)\")\n"
   ]
  },
  {
   "cell_type": "markdown",
   "metadata": {},
   "source": [
    "## <a id='toc2_5_'></a>[Buteurs sur penalty](#toc0_)"
   ]
  },
  {
   "cell_type": "code",
   "execution_count": 20,
   "metadata": {},
   "outputs": [
    {
     "name": "stdout",
     "output_type": "stream",
     "text": [
      "Les 10 meilleurs buteurs sur penalty avec leur nationalité :\n",
      "                  scorer                 team  nombre_de_buts\n",
      "604           Harry Kane              England              19\n",
      "292    Cristiano Ronaldo             Portugal              19\n",
      "967         Lionel Messi            Argentina              14\n",
      "649     Hristo Stoichkov             Bulgaria              13\n",
      "1353  Robert Lewandowski               Poland              12\n",
      "293    Cuauhtémoc Blanco               Mexico              11\n",
      "1099        Mile Jedinak            Australia              11\n",
      "471      Fernando Hierro                Spain              10\n",
      "1352        Robbie Keane  Republic of Ireland              10\n",
      "948       Landon Donovan        United States              10\n"
     ]
    }
   ],
   "source": [
    "buts_penalty = df[df['penalty'] == 1]\n",
    "\n",
    "buteurs_penalty = buts_penalty.groupby(['scorer', 'team']).size().reset_index(name='nombre_de_buts')\n",
    "\n",
    "top_10_buteurs_penalty = buteurs_penalty.sort_values(by='nombre_de_buts', ascending=False).head(10)\n",
    "\n",
    "print(\"Les 10 meilleurs buteurs sur penalty avec leur nationalité :\")\n",
    "print(top_10_buteurs_penalty)"
   ]
  },
  {
   "cell_type": "markdown",
   "metadata": {},
   "source": [
    "## <a id='toc2_6_'></a>[Buts contre son camp](#toc0_)"
   ]
  },
  {
   "cell_type": "code",
   "execution_count": 23,
   "metadata": {},
   "outputs": [
    {
     "name": "stdout",
     "output_type": "stream",
     "text": [
      "Les 10 joueurs avec le plus de own goals :\n",
      "            joueur  nombre_own_goals\n",
      "0   José del Solar                 3\n",
      "1    Ragnar Klavan                 3\n",
      "2   Rashad Sadygov                 3\n",
      "3      Walid Abbas                 3\n",
      "4     Raio Piiroja                 3\n",
      "5    Gustavo Gómez                 3\n",
      "6  Cristian Brolli                 3\n",
      "7       Ján Ďurica                 3\n",
      "8    Roberto Ayala                 3\n",
      "9     Mats Hummels                 2\n"
     ]
    }
   ],
   "source": [
    "own_goals = df[df['own_goal'] == 1]\n",
    "\n",
    "own_goal_counts = own_goals['scorer'].value_counts().reset_index()\n",
    "own_goal_counts.columns = ['joueur', 'nombre_own_goals']\n",
    "\n",
    "top_10_own_goal_scorers = own_goal_counts.head(10)\n",
    "\n",
    "print(\"Les 10 joueurs avec le plus de own goals :\")\n",
    "print(top_10_own_goal_scorers)"
   ]
  },
  {
   "cell_type": "markdown",
   "metadata": {},
   "source": [
    "## <a id='toc2_7_'></a>[Meilleurs buteurs à chaque décennie](#toc0_)"
   ]
  },
  {
   "cell_type": "code",
   "execution_count": 24,
   "metadata": {},
   "outputs": [
    {
     "name": "stdout",
     "output_type": "stream",
     "text": [
      "Meilleurs buteurs de la décennie 1916-01-01 à 1919-12-31 :\n",
      "                joueur  nombre_de_buts\n",
      "0                 Neco               6\n",
      "1       Carlos Scarone               6\n",
      "2     Isabelino Gradín               5\n",
      "3  Arthur Friedenreich               5\n",
      "4        Alberto Ohaco               4\n",
      "\n",
      "Meilleurs buteurs de la décennie 1920-01-01 à 1929-12-31 :\n",
      "              joueur  nombre_de_buts\n",
      "0      Pedro Petrone              21\n",
      "1     Héctor Scarone              18\n",
      "2  Domingo Tarasconi              13\n",
      "3       Ángel Romano              11\n",
      "4    Manuel Ferreira              11\n",
      "\n",
      "Meilleurs buteurs de la décennie 1930-01-01 à 1939-12-31 :\n",
      "              joueur  nombre_de_buts\n",
      "0   Gyula Zsengellér              10\n",
      "1    Severino Varela              10\n",
      "2  Teodoro Fernández              10\n",
      "3    Ēriks Pētersons               9\n",
      "4    Oldřich Nejedlý               9\n",
      "\n",
      "Meilleurs buteurs de la décennie 1940-01-01 à 1949-12-31 :\n",
      "                    joueur  nombre_de_buts\n",
      "0  Norberto Doroteo Méndez              17\n",
      "1                  Zizinho              14\n",
      "2       José Manuel Moreno              13\n",
      "3                     Jair              13\n",
      "4        Ademir de Menezes              12\n",
      "\n",
      "Meilleurs buteurs de la décennie 1950-01-01 à 1959-12-31 :\n",
      "           joueur  nombre_de_buts\n",
      "0   Just Fontaine              21\n",
      "1    Óscar Míguez              15\n",
      "2            Pelé              14\n",
      "3            Didi              14\n",
      "4  Javier Ambrois              12\n",
      "\n",
      "Meilleurs buteurs de la décennie 1960-01-01 à 1969-12-31 :\n",
      "                 joueur  nombre_de_buts\n",
      "0               Eusébio              23\n",
      "1           Ferenc Bene              18\n",
      "2           Milan Galić              16\n",
      "3  Włodzimierz Lubański              14\n",
      "4            Ole Madsen              14\n",
      "\n",
      "Meilleurs buteurs de la décennie 1970-01-01 à 1979-12-31 :\n",
      "            joueur  nombre_de_buts\n",
      "0      Gerd Müller              25\n",
      "1     Johan Cruyff              22\n",
      "2    Grzegorz Lato              18\n",
      "3  Joachim Streich              18\n",
      "4      Hans Krankl              15\n",
      "\n",
      "Meilleurs buteurs de la décennie 1980-01-01 à 1989-12-31 :\n",
      "                  joueur  nombre_de_buts\n",
      "0  Karl-Heinz Rummenigge              28\n",
      "1          Preben Elkjær              23\n",
      "2         Michel Platini              22\n",
      "3            Rudi Völler              18\n",
      "4           Gary Lineker              16\n",
      "\n",
      "Meilleurs buteurs de la décennie 1990-01-01 à 1999-12-31 :\n",
      "              joueur  nombre_de_buts\n",
      "0  Gabriel Batistuta              31\n",
      "1        Davor Šuker              31\n",
      "2    Kazuyoshi Miura              30\n",
      "3   Jürgen Klinsmann              28\n",
      "4   Hristo Stoichkov              27\n",
      "\n",
      "Meilleurs buteurs de la décennie 2000-01-01 à 2009-12-31 :\n",
      "              joueur  nombre_de_buts\n",
      "0     Jared Borgetti              37\n",
      "1       Samuel Eto'o              34\n",
      "2  Andriy Shevchenko              32\n",
      "3       Carlos Pavón              31\n",
      "4      Thierry Henry              31\n",
      "\n",
      "Meilleurs buteurs de la décennie 2010-01-01 à 2019-12-31 :\n",
      "               joueur  nombre_de_buts\n",
      "0   Cristiano Ronaldo              66\n",
      "1  Robert Lewandowski              40\n",
      "2          Edin Džeko              34\n",
      "3         Luis Suárez              32\n",
      "4       Romelu Lukaku              31\n",
      "\n",
      "Meilleurs buteurs de la décennie 2020-01-01 à 2024-12-31 :\n",
      "                joueur  nombre_de_buts\n",
      "0        Romelu Lukaku              30\n",
      "1        Kylian Mbappé              30\n",
      "2           Harry Kane              28\n",
      "3    Cristiano Ronaldo              26\n",
      "4  Aleksandar Mitrović              23\n",
      "\n"
     ]
    }
   ],
   "source": [
    "df['date'] = pd.to_datetime(df['date'])\n",
    "\n",
    "decennies = [\n",
    "    ('1916-01-01', '1919-12-31'),\n",
    "    ('1920-01-01', '1929-12-31'),\n",
    "    ('1930-01-01', '1939-12-31'),\n",
    "    ('1940-01-01', '1949-12-31'),\n",
    "    ('1950-01-01', '1959-12-31'),\n",
    "    ('1960-01-01', '1969-12-31'),\n",
    "    ('1970-01-01', '1979-12-31'),\n",
    "    ('1980-01-01', '1989-12-31'),\n",
    "    ('1990-01-01', '1999-12-31'),\n",
    "    ('2000-01-01', '2009-12-31'),\n",
    "    ('2010-01-01', '2019-12-31'),\n",
    "    ('2020-01-01', '2024-12-31')\n",
    "]\n",
    "\n",
    "top_buteurs_par_decennie = []\n",
    "\n",
    "for debut, fin in decennies:\n",
    "    decennie_data = df[(df['date'] >= debut) & (df['date'] <= fin)]\n",
    "    \n",
    "    buteurs_decennie = decennie_data['scorer'].value_counts().reset_index()\n",
    "    buteurs_decennie.columns = ['joueur', 'nombre_de_buts']\n",
    "    \n",
    "    top_5_buteurs_decennie = buteurs_decennie.head(5)\n",
    "    \n",
    "    top_buteurs_par_decennie.append(top_5_buteurs_decennie)\n",
    "\n",
    "for i, (debut, fin) in enumerate(decennies):\n",
    "    print(f\"Meilleurs buteurs de la décennie {debut} à {fin} :\")\n",
    "    print(top_buteurs_par_decennie[i])\n",
    "    print()"
   ]
  },
  {
   "cell_type": "markdown",
   "metadata": {},
   "source": [
    "## <a id='toc2_8_'></a>[Les joueurs avec le plus de doublés](#toc0_)"
   ]
  },
  {
   "cell_type": "code",
   "execution_count": 36,
   "metadata": {},
   "outputs": [
    {
     "name": "stdout",
     "output_type": "stream",
     "text": [
      "Les cinq joueurs avec le plus de doublés :\n",
      "                joueur  nombre_de_doubles\n",
      "0    Cristiano Ronaldo                 73\n",
      "1        Romelu Lukaku                 44\n",
      "2   Robert Lewandowski                 39\n",
      "3  Aleksandar Mitrović                 28\n",
      "4          Carlos Ruiz                 28\n"
     ]
    }
   ],
   "source": [
    "doubles_par_joueur = df[df.groupby(['date', 'team', 'scorer'])['scorer'].transform('size') >= 2]\n",
    "\n",
    "doubles_par_joueur = doubles_par_joueur['scorer'].value_counts().reset_index()\n",
    "doubles_par_joueur.columns = ['joueur', 'nombre_de_doubles']\n",
    "\n",
    "top_5_joueurs_doubles = doubles_par_joueur.head(5)\n",
    "\n",
    "print(\"Les cinq joueurs avec le plus de doublés :\")\n",
    "print(top_5_joueurs_doubles)"
   ]
  },
  {
   "cell_type": "markdown",
   "metadata": {},
   "source": [
    "## <a id='toc2_9_'></a>[Les joueurs avec le plus de triplés](#toc0_)"
   ]
  },
  {
   "cell_type": "code",
   "execution_count": 37,
   "metadata": {},
   "outputs": [
    {
     "name": "stdout",
     "output_type": "stream",
     "text": [
      "Les cinq joueurs avec le plus de triplés :\n",
      "               joueur  nombre_de_triples\n",
      "0   Cristiano Ronaldo                 35\n",
      "1         Damian Mori                 19\n",
      "2  Robert Lewandowski                 19\n",
      "3      Vaughan Coveny                 16\n",
      "4          Harry Kane                 16\n"
     ]
    }
   ],
   "source": [
    "triple_par_joueur = df[df.groupby(['date', 'team', 'scorer'])['scorer'].transform('size') >= 3]\n",
    "\n",
    "triple_par_joueur = triple_par_joueur['scorer'].value_counts().reset_index()\n",
    "triple_par_joueur.columns = ['joueur', 'nombre_de_triples']\n",
    "\n",
    "top_5_joueurs_triples = triple_par_joueur.head(5)\n",
    "\n",
    "print(\"Les cinq joueurs avec le plus de triplés :\")\n",
    "print(top_5_joueurs_triples)"
   ]
  },
  {
   "cell_type": "markdown",
   "metadata": {},
   "source": [
    "## <a id='toc2_10_'></a>[Les joueurs avec le plus de quadruplés](#toc0_)"
   ]
  },
  {
   "cell_type": "code",
   "execution_count": 38,
   "metadata": {},
   "outputs": [
    {
     "name": "stdout",
     "output_type": "stream",
     "text": [
      "Les cinq joueurs avec le plus de quadruplés :\n",
      "              joueur  nombre_de_quadruples\n",
      "0    Kazuyoshi Miura                    14\n",
      "1  Cristiano Ronaldo                    14\n",
      "2      Karim Bagheri                    13\n",
      "3        Damian Mori                    13\n",
      "4    Archie Thompson                    13\n"
     ]
    }
   ],
   "source": [
    "quadruple_par_joueur = df[df.groupby(['date', 'team', 'scorer'])['scorer'].transform('size') >= 4]\n",
    "\n",
    "quadruple_par_joueur = quadruple_par_joueur['scorer'].value_counts().reset_index()\n",
    "quadruple_par_joueur.columns = ['joueur', 'nombre_de_quadruples']\n",
    "\n",
    "top_5_joueurs_quadruples = quadruple_par_joueur.head(5)\n",
    "\n",
    "print(\"Les cinq joueurs avec le plus de quadruplés :\")\n",
    "print(top_5_joueurs_quadruples)"
   ]
  },
  {
   "cell_type": "markdown",
   "metadata": {},
   "source": [
    "## <a id='toc2_11_'></a>[Les joueurs avec le plus en un match](#toc0_)"
   ]
  },
  {
   "cell_type": "code",
   "execution_count": 40,
   "metadata": {},
   "outputs": [
    {
     "name": "stdout",
     "output_type": "stream",
     "text": [
      "Les cinq joueurs avec le plus de buts marqués en un seul match :\n",
      "            date       team              scorer  nombre_de_buts\n",
      "17279 2001-04-11  Australia     Archie Thompson              13\n",
      "17282 2001-04-11  Australia       David Zdrilic               8\n",
      "11920 1993-07-11     Mexico  Luís Roberto Alves               7\n",
      "14275 1997-06-02       Iran       Karim Bagheri               7\n",
      "7587  1981-08-14  Australia           Gary Cole               7\n",
      "14506 1997-06-22      Japan     Kazuyoshi Miura               6\n",
      "6329  1977-04-30    Austria         Hans Krankl               6\n",
      "32433 2019-06-05   Portugal   Cristiano Ronaldo               6\n",
      "17269 2001-04-09  Australia         John Aloisi               6\n",
      "25756 2011-07-09    Bahamas     Lesly St. Fleur               6\n"
     ]
    }
   ],
   "source": [
    "buts_par_match_par_joueur = df.groupby(['date', 'team', 'scorer'])['scorer'].count().reset_index(name='nombre_de_buts')\n",
    "\n",
    "top_10_joueurs_buts_match_unique = buts_par_match_par_joueur.sort_values(by='nombre_de_buts', ascending=False).head(10)\n",
    "\n",
    "print(\"Les cinq joueurs avec le plus de buts marqués en un seul match :\")\n",
    "print(top_10_joueurs_buts_match_unique)"
   ]
  }
 ],
 "metadata": {
  "kernelspec": {
   "display_name": "Python 3",
   "language": "python",
   "name": "python3"
  },
  "language_info": {
   "codemirror_mode": {
    "name": "ipython",
    "version": 3
   },
   "file_extension": ".py",
   "mimetype": "text/x-python",
   "name": "python",
   "nbconvert_exporter": "python",
   "pygments_lexer": "ipython3",
   "version": "3.11.7"
  }
 },
 "nbformat": 4,
 "nbformat_minor": 2
}
